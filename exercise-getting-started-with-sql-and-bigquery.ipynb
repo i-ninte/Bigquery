{
 "cells": [
  {
   "cell_type": "markdown",
   "id": "df45f39a",
   "metadata": {
    "papermill": {
     "duration": 0.006408,
     "end_time": "2023-05-23T17:47:36.545128",
     "exception": false,
     "start_time": "2023-05-23T17:47:36.538720",
     "status": "completed"
    },
    "tags": []
   },
   "source": [
    "**This notebook is an exercise in the [SQL](https://www.kaggle.com/learn/intro-to-sql) course.  You can reference the tutorial at [this link](https://www.kaggle.com/dansbecker/getting-started-with-sql-and-bigquery).**\n",
    "\n",
    "---\n"
   ]
  },
  {
   "cell_type": "markdown",
   "id": "4a7e32de",
   "metadata": {
    "papermill": {
     "duration": 0.005537,
     "end_time": "2023-05-23T17:47:36.556763",
     "exception": false,
     "start_time": "2023-05-23T17:47:36.551226",
     "status": "completed"
    },
    "tags": []
   },
   "source": [
    "# Introduction\n",
    "\n",
    "The first test of your new data exploration skills uses data describing crime in the city of Chicago.\n",
    "\n",
    "Before you get started, run the following cell. It sets up the automated feedback system to review your answers."
   ]
  },
  {
   "cell_type": "code",
   "execution_count": 1,
   "id": "c3f1cf0c",
   "metadata": {
    "execution": {
     "iopub.execute_input": "2023-05-23T17:47:36.570358Z",
     "iopub.status.busy": "2023-05-23T17:47:36.569828Z",
     "iopub.status.idle": "2023-05-23T17:47:37.584603Z",
     "shell.execute_reply": "2023-05-23T17:47:37.583393Z"
    },
    "papermill": {
     "duration": 1.024493,
     "end_time": "2023-05-23T17:47:37.587094",
     "exception": false,
     "start_time": "2023-05-23T17:47:36.562601",
     "status": "completed"
    },
    "tags": []
   },
   "outputs": [
    {
     "name": "stdout",
     "output_type": "stream",
     "text": [
      "Using Kaggle's public dataset BigQuery integration.\n",
      "Setup Complete\n"
     ]
    }
   ],
   "source": [
    "# Set up feedack system\n",
    "from learntools.core import binder\n",
    "binder.bind(globals())\n",
    "from learntools.sql.ex1 import *\n",
    "print(\"Setup Complete\")"
   ]
  },
  {
   "cell_type": "markdown",
   "id": "81cb0010",
   "metadata": {
    "papermill": {
     "duration": 0.006983,
     "end_time": "2023-05-23T17:47:37.600458",
     "exception": false,
     "start_time": "2023-05-23T17:47:37.593475",
     "status": "completed"
    },
    "tags": []
   },
   "source": [
    "Use the next code cell to fetch the dataset."
   ]
  },
  {
   "cell_type": "code",
   "execution_count": 2,
   "id": "a24d2455",
   "metadata": {
    "execution": {
     "iopub.execute_input": "2023-05-23T17:47:37.615952Z",
     "iopub.status.busy": "2023-05-23T17:47:37.615497Z",
     "iopub.status.idle": "2023-05-23T17:47:37.986226Z",
     "shell.execute_reply": "2023-05-23T17:47:37.984968Z"
    },
    "papermill": {
     "duration": 0.381507,
     "end_time": "2023-05-23T17:47:37.989503",
     "exception": false,
     "start_time": "2023-05-23T17:47:37.607996",
     "status": "completed"
    },
    "tags": []
   },
   "outputs": [
    {
     "name": "stdout",
     "output_type": "stream",
     "text": [
      "Using Kaggle's public dataset BigQuery integration.\n"
     ]
    }
   ],
   "source": [
    "from google.cloud import bigquery\n",
    "\n",
    "# Create a \"Client\" object\n",
    "client = bigquery.Client()\n",
    "\n",
    "# Construct a reference to the \"chicago_crime\" dataset\n",
    "dataset_ref = client.dataset(\"chicago_crime\", project=\"bigquery-public-data\")\n",
    "\n",
    "# API request - fetch the dataset\n",
    "dataset = client.get_dataset(dataset_ref)"
   ]
  },
  {
   "cell_type": "markdown",
   "id": "1d97c40a",
   "metadata": {
    "papermill": {
     "duration": 0.005989,
     "end_time": "2023-05-23T17:47:38.001908",
     "exception": false,
     "start_time": "2023-05-23T17:47:37.995919",
     "status": "completed"
    },
    "tags": []
   },
   "source": [
    "# Exercises\n",
    "\n",
    "### 1) Count tables in the dataset\n",
    "\n",
    "How many tables are in the Chicago Crime dataset?"
   ]
  },
  {
   "cell_type": "code",
   "execution_count": 3,
   "id": "1abb139b",
   "metadata": {
    "execution": {
     "iopub.execute_input": "2023-05-23T17:47:38.015861Z",
     "iopub.status.busy": "2023-05-23T17:47:38.015471Z",
     "iopub.status.idle": "2023-05-23T17:47:38.297064Z",
     "shell.execute_reply": "2023-05-23T17:47:38.295443Z"
    },
    "papermill": {
     "duration": 0.291651,
     "end_time": "2023-05-23T17:47:38.299755",
     "exception": false,
     "start_time": "2023-05-23T17:47:38.008104",
     "status": "completed"
    },
    "tags": []
   },
   "outputs": [
    {
     "name": "stdout",
     "output_type": "stream",
     "text": [
      "crime\n"
     ]
    }
   ],
   "source": [
    "# Write the code you need here to figure out the answer\n",
    "tables= list(client.list_tables(dataset))\n",
    "for table in tables:\n",
    "    print(table.table_id)"
   ]
  },
  {
   "cell_type": "markdown",
   "id": "b7b17bc5",
   "metadata": {
    "papermill": {
     "duration": 0.006455,
     "end_time": "2023-05-23T17:47:38.312995",
     "exception": false,
     "start_time": "2023-05-23T17:47:38.306540",
     "status": "completed"
    },
    "tags": []
   },
   "source": [
    "this shows there is only one table with name crime"
   ]
  },
  {
   "cell_type": "code",
   "execution_count": 4,
   "id": "05a42b71",
   "metadata": {
    "execution": {
     "iopub.execute_input": "2023-05-23T17:47:38.328029Z",
     "iopub.status.busy": "2023-05-23T17:47:38.327655Z",
     "iopub.status.idle": "2023-05-23T17:47:38.336942Z",
     "shell.execute_reply": "2023-05-23T17:47:38.335904Z"
    },
    "papermill": {
     "duration": 0.01996,
     "end_time": "2023-05-23T17:47:38.339220",
     "exception": false,
     "start_time": "2023-05-23T17:47:38.319260",
     "status": "completed"
    },
    "tags": []
   },
   "outputs": [
    {
     "data": {
      "application/javascript": [
       "parent.postMessage({\"jupyterEvent\": \"custom.exercise_interaction\", \"data\": {\"outcomeType\": 1, \"valueTowardsCompletion\": 0.3333333333333333, \"interactionType\": 1, \"questionType\": 1, \"questionId\": \"1_CountTables\", \"learnToolsVersion\": \"0.3.4\", \"failureMessage\": \"\", \"exceptionClass\": \"\", \"trace\": \"\"}}, \"*\")"
      ],
      "text/plain": [
       "<IPython.core.display.Javascript object>"
      ]
     },
     "metadata": {},
     "output_type": "display_data"
    },
    {
     "data": {
      "text/markdown": [
       "<span style=\"color:#33cc33\">Correct</span>"
      ],
      "text/plain": [
       "Correct"
      ]
     },
     "metadata": {},
     "output_type": "display_data"
    }
   ],
   "source": [
    "num_tables = 1 # Store the answer as num_tables and then run this cell\n",
    "\n",
    "# Check your answer\n",
    "q_1.check()"
   ]
  },
  {
   "cell_type": "markdown",
   "id": "85749a9a",
   "metadata": {
    "papermill": {
     "duration": 0.006128,
     "end_time": "2023-05-23T17:47:38.351938",
     "exception": false,
     "start_time": "2023-05-23T17:47:38.345810",
     "status": "completed"
    },
    "tags": []
   },
   "source": [
    "For a hint or the solution, uncomment the appropriate line below."
   ]
  },
  {
   "cell_type": "markdown",
   "id": "85e58439",
   "metadata": {
    "papermill": {
     "duration": 0.006171,
     "end_time": "2023-05-23T17:47:38.364626",
     "exception": false,
     "start_time": "2023-05-23T17:47:38.358455",
     "status": "completed"
    },
    "tags": []
   },
   "source": [
    "### 2) Explore the table schema\n",
    "\n",
    "How many columns in the `crime` table have `TIMESTAMP` data?"
   ]
  },
  {
   "cell_type": "code",
   "execution_count": 5,
   "id": "be68c762",
   "metadata": {
    "execution": {
     "iopub.execute_input": "2023-05-23T17:47:38.379615Z",
     "iopub.status.busy": "2023-05-23T17:47:38.379174Z",
     "iopub.status.idle": "2023-05-23T17:47:38.384692Z",
     "shell.execute_reply": "2023-05-23T17:47:38.383131Z"
    },
    "papermill": {
     "duration": 0.015733,
     "end_time": "2023-05-23T17:47:38.386940",
     "exception": false,
     "start_time": "2023-05-23T17:47:38.371207",
     "status": "completed"
    },
    "tags": []
   },
   "outputs": [],
   "source": [
    "#q_1.hint()\n",
    "#q_1.solution()"
   ]
  },
  {
   "cell_type": "code",
   "execution_count": null,
   "id": "dffcf71b",
   "metadata": {
    "papermill": {
     "duration": 0.006785,
     "end_time": "2023-05-23T17:47:38.400456",
     "exception": false,
     "start_time": "2023-05-23T17:47:38.393671",
     "status": "completed"
    },
    "tags": []
   },
   "outputs": [],
   "source": []
  },
  {
   "cell_type": "markdown",
   "id": "22423066",
   "metadata": {
    "papermill": {
     "duration": 0.006392,
     "end_time": "2023-05-23T17:47:38.413890",
     "exception": false,
     "start_time": "2023-05-23T17:47:38.407498",
     "status": "completed"
    },
    "tags": []
   },
   "source": [
    "this code prints all the schema"
   ]
  },
  {
   "cell_type": "code",
   "execution_count": 6,
   "id": "a2a6528b",
   "metadata": {
    "execution": {
     "iopub.execute_input": "2023-05-23T17:47:38.428893Z",
     "iopub.status.busy": "2023-05-23T17:47:38.428386Z",
     "iopub.status.idle": "2023-05-23T17:47:38.723167Z",
     "shell.execute_reply": "2023-05-23T17:47:38.721564Z"
    },
    "papermill": {
     "duration": 0.305299,
     "end_time": "2023-05-23T17:47:38.725838",
     "exception": false,
     "start_time": "2023-05-23T17:47:38.420539",
     "status": "completed"
    },
    "tags": []
   },
   "outputs": [
    {
     "name": "stdout",
     "output_type": "stream",
     "text": [
      "[SchemaField('unique_key', 'INTEGER', 'REQUIRED', None, (), None), SchemaField('case_number', 'STRING', 'NULLABLE', None, (), None), SchemaField('date', 'TIMESTAMP', 'NULLABLE', None, (), None), SchemaField('block', 'STRING', 'NULLABLE', None, (), None), SchemaField('iucr', 'STRING', 'NULLABLE', None, (), None), SchemaField('primary_type', 'STRING', 'NULLABLE', None, (), None), SchemaField('description', 'STRING', 'NULLABLE', None, (), None), SchemaField('location_description', 'STRING', 'NULLABLE', None, (), None), SchemaField('arrest', 'BOOLEAN', 'NULLABLE', None, (), None), SchemaField('domestic', 'BOOLEAN', 'NULLABLE', None, (), None), SchemaField('beat', 'INTEGER', 'NULLABLE', None, (), None), SchemaField('district', 'INTEGER', 'NULLABLE', None, (), None), SchemaField('ward', 'INTEGER', 'NULLABLE', None, (), None), SchemaField('community_area', 'INTEGER', 'NULLABLE', None, (), None), SchemaField('fbi_code', 'STRING', 'NULLABLE', None, (), None), SchemaField('x_coordinate', 'FLOAT', 'NULLABLE', None, (), None), SchemaField('y_coordinate', 'FLOAT', 'NULLABLE', None, (), None), SchemaField('year', 'INTEGER', 'NULLABLE', None, (), None), SchemaField('updated_on', 'TIMESTAMP', 'NULLABLE', None, (), None), SchemaField('latitude', 'FLOAT', 'NULLABLE', None, (), None), SchemaField('longitude', 'FLOAT', 'NULLABLE', None, (), None), SchemaField('location', 'STRING', 'NULLABLE', None, (), None)]\n"
     ]
    }
   ],
   "source": [
    "# Write the code to figure out the answer\n",
    "table_ref= dataset_ref.table(\"crime\")\n",
    "table = client.get_table(table_ref)\n",
    "print(table.schema)\n"
   ]
  },
  {
   "cell_type": "code",
   "execution_count": 7,
   "id": "2813acf5",
   "metadata": {
    "execution": {
     "iopub.execute_input": "2023-05-23T17:47:38.741306Z",
     "iopub.status.busy": "2023-05-23T17:47:38.740910Z",
     "iopub.status.idle": "2023-05-23T17:47:39.030177Z",
     "shell.execute_reply": "2023-05-23T17:47:39.028792Z"
    },
    "papermill": {
     "duration": 0.299894,
     "end_time": "2023-05-23T17:47:39.032650",
     "exception": false,
     "start_time": "2023-05-23T17:47:38.732756",
     "status": "completed"
    },
    "tags": []
   },
   "outputs": [
    {
     "name": "stdout",
     "output_type": "stream",
     "text": [
      "number of timestamps is : 2\n"
     ]
    }
   ],
   "source": [
    "table_ref = dataset_ref.table(\"crime\")\n",
    "table= client.get_table(table_ref)\n",
    "timestamp_count=0\n",
    "for field in table.schema:\n",
    "    if field.field_type==\"TIMESTAMP\":\n",
    "        timestamp_count+=1\n",
    "print(\"number of timestamps is :\", timestamp_count)"
   ]
  },
  {
   "cell_type": "markdown",
   "id": "cc212264",
   "metadata": {
    "papermill": {
     "duration": 0.006605,
     "end_time": "2023-05-23T17:47:39.045880",
     "exception": false,
     "start_time": "2023-05-23T17:47:39.039275",
     "status": "completed"
    },
    "tags": []
   },
   "source": [
    "this displays the number of timestamps to be equal to 2."
   ]
  },
  {
   "cell_type": "code",
   "execution_count": 8,
   "id": "5b98b2a1",
   "metadata": {
    "execution": {
     "iopub.execute_input": "2023-05-23T17:47:39.061739Z",
     "iopub.status.busy": "2023-05-23T17:47:39.060600Z",
     "iopub.status.idle": "2023-05-23T17:47:39.072429Z",
     "shell.execute_reply": "2023-05-23T17:47:39.070384Z"
    },
    "papermill": {
     "duration": 0.022614,
     "end_time": "2023-05-23T17:47:39.075236",
     "exception": false,
     "start_time": "2023-05-23T17:47:39.052622",
     "status": "completed"
    },
    "tags": []
   },
   "outputs": [
    {
     "data": {
      "application/javascript": [
       "parent.postMessage({\"jupyterEvent\": \"custom.exercise_interaction\", \"data\": {\"outcomeType\": 1, \"valueTowardsCompletion\": 0.3333333333333333, \"interactionType\": 1, \"questionType\": 1, \"questionId\": \"2_CountTimestampFields\", \"learnToolsVersion\": \"0.3.4\", \"failureMessage\": \"\", \"exceptionClass\": \"\", \"trace\": \"\"}}, \"*\")"
      ],
      "text/plain": [
       "<IPython.core.display.Javascript object>"
      ]
     },
     "metadata": {},
     "output_type": "display_data"
    },
    {
     "data": {
      "text/markdown": [
       "<span style=\"color:#33cc33\">Correct</span>"
      ],
      "text/plain": [
       "Correct"
      ]
     },
     "metadata": {},
     "output_type": "display_data"
    }
   ],
   "source": [
    "num_timestamp_fields = 2 # Put your answer here\n",
    "\n",
    "# Check your answer\n",
    "q_2.check()"
   ]
  },
  {
   "cell_type": "markdown",
   "id": "b1fbda0a",
   "metadata": {
    "papermill": {
     "duration": 0.006428,
     "end_time": "2023-05-23T17:47:39.088495",
     "exception": false,
     "start_time": "2023-05-23T17:47:39.082067",
     "status": "completed"
    },
    "tags": []
   },
   "source": [
    "For a hint or the solution, uncomment the appropriate line below."
   ]
  },
  {
   "cell_type": "code",
   "execution_count": 9,
   "id": "dfb298c2",
   "metadata": {
    "execution": {
     "iopub.execute_input": "2023-05-23T17:47:39.104081Z",
     "iopub.status.busy": "2023-05-23T17:47:39.103660Z",
     "iopub.status.idle": "2023-05-23T17:47:39.108075Z",
     "shell.execute_reply": "2023-05-23T17:47:39.106970Z"
    },
    "papermill": {
     "duration": 0.014718,
     "end_time": "2023-05-23T17:47:39.110211",
     "exception": false,
     "start_time": "2023-05-23T17:47:39.095493",
     "status": "completed"
    },
    "tags": []
   },
   "outputs": [],
   "source": [
    "#q_2.hint()\n",
    "#q_2.solution()"
   ]
  },
  {
   "cell_type": "markdown",
   "id": "f6d5a3d0",
   "metadata": {
    "papermill": {
     "duration": 0.006525,
     "end_time": "2023-05-23T17:47:39.123611",
     "exception": false,
     "start_time": "2023-05-23T17:47:39.117086",
     "status": "completed"
    },
    "tags": []
   },
   "source": [
    "### 3) Create a crime map\n",
    "\n",
    "If you wanted to create a map with a dot at the location of each crime, what are the names of the two fields you likely need to pull out of the `crime` table to plot the crimes on a map?"
   ]
  },
  {
   "cell_type": "code",
   "execution_count": 10,
   "id": "7aba4640",
   "metadata": {
    "execution": {
     "iopub.execute_input": "2023-05-23T17:47:39.140025Z",
     "iopub.status.busy": "2023-05-23T17:47:39.139017Z",
     "iopub.status.idle": "2023-05-23T17:47:39.146381Z",
     "shell.execute_reply": "2023-05-23T17:47:39.145240Z"
    },
    "papermill": {
     "duration": 0.017623,
     "end_time": "2023-05-23T17:47:39.148521",
     "exception": false,
     "start_time": "2023-05-23T17:47:39.130898",
     "status": "completed"
    },
    "tags": []
   },
   "outputs": [
    {
     "data": {
      "text/plain": [
       "[SchemaField('unique_key', 'INTEGER', 'REQUIRED', None, (), None),\n",
       " SchemaField('case_number', 'STRING', 'NULLABLE', None, (), None),\n",
       " SchemaField('date', 'TIMESTAMP', 'NULLABLE', None, (), None),\n",
       " SchemaField('block', 'STRING', 'NULLABLE', None, (), None),\n",
       " SchemaField('iucr', 'STRING', 'NULLABLE', None, (), None),\n",
       " SchemaField('primary_type', 'STRING', 'NULLABLE', None, (), None),\n",
       " SchemaField('description', 'STRING', 'NULLABLE', None, (), None),\n",
       " SchemaField('location_description', 'STRING', 'NULLABLE', None, (), None),\n",
       " SchemaField('arrest', 'BOOLEAN', 'NULLABLE', None, (), None),\n",
       " SchemaField('domestic', 'BOOLEAN', 'NULLABLE', None, (), None),\n",
       " SchemaField('beat', 'INTEGER', 'NULLABLE', None, (), None),\n",
       " SchemaField('district', 'INTEGER', 'NULLABLE', None, (), None),\n",
       " SchemaField('ward', 'INTEGER', 'NULLABLE', None, (), None),\n",
       " SchemaField('community_area', 'INTEGER', 'NULLABLE', None, (), None),\n",
       " SchemaField('fbi_code', 'STRING', 'NULLABLE', None, (), None),\n",
       " SchemaField('x_coordinate', 'FLOAT', 'NULLABLE', None, (), None),\n",
       " SchemaField('y_coordinate', 'FLOAT', 'NULLABLE', None, (), None),\n",
       " SchemaField('year', 'INTEGER', 'NULLABLE', None, (), None),\n",
       " SchemaField('updated_on', 'TIMESTAMP', 'NULLABLE', None, (), None),\n",
       " SchemaField('latitude', 'FLOAT', 'NULLABLE', None, (), None),\n",
       " SchemaField('longitude', 'FLOAT', 'NULLABLE', None, (), None),\n",
       " SchemaField('location', 'STRING', 'NULLABLE', None, (), None)]"
      ]
     },
     "execution_count": 10,
     "metadata": {},
     "output_type": "execute_result"
    }
   ],
   "source": [
    "# Write the code here to explore the data so you can find the answer\n",
    "table.schema\n"
   ]
  },
  {
   "cell_type": "code",
   "execution_count": 11,
   "id": "aa6e7c55",
   "metadata": {
    "execution": {
     "iopub.execute_input": "2023-05-23T17:47:39.164555Z",
     "iopub.status.busy": "2023-05-23T17:47:39.163543Z",
     "iopub.status.idle": "2023-05-23T17:47:39.172366Z",
     "shell.execute_reply": "2023-05-23T17:47:39.171456Z"
    },
    "papermill": {
     "duration": 0.018828,
     "end_time": "2023-05-23T17:47:39.174346",
     "exception": false,
     "start_time": "2023-05-23T17:47:39.155518",
     "status": "completed"
    },
    "tags": []
   },
   "outputs": [
    {
     "data": {
      "application/javascript": [
       "parent.postMessage({\"jupyterEvent\": \"custom.exercise_interaction\", \"data\": {\"outcomeType\": 1, \"valueTowardsCompletion\": 0.3333333333333333, \"interactionType\": 1, \"questionType\": 2, \"questionId\": \"3_IdentifyFieldsForPlotting\", \"learnToolsVersion\": \"0.3.4\", \"failureMessage\": \"\", \"exceptionClass\": \"\", \"trace\": \"\"}}, \"*\")"
      ],
      "text/plain": [
       "<IPython.core.display.Javascript object>"
      ]
     },
     "metadata": {},
     "output_type": "display_data"
    },
    {
     "data": {
      "text/markdown": [
       "<span style=\"color:#33cc33\">Correct</span>"
      ],
      "text/plain": [
       "Correct"
      ]
     },
     "metadata": {},
     "output_type": "display_data"
    }
   ],
   "source": [
    "fields_for_plotting = ['latitude', 'longitude'] # Put your answers here\n",
    "\n",
    "# Check your answer\n",
    "q_3.check()"
   ]
  },
  {
   "cell_type": "markdown",
   "id": "a471b28c",
   "metadata": {
    "papermill": {
     "duration": 0.006814,
     "end_time": "2023-05-23T17:47:39.188368",
     "exception": false,
     "start_time": "2023-05-23T17:47:39.181554",
     "status": "completed"
    },
    "tags": []
   },
   "source": [
    "For a hint or the solution, uncomment the appropriate line below."
   ]
  },
  {
   "cell_type": "code",
   "execution_count": 12,
   "id": "d8727251",
   "metadata": {
    "execution": {
     "iopub.execute_input": "2023-05-23T17:47:39.204680Z",
     "iopub.status.busy": "2023-05-23T17:47:39.203686Z",
     "iopub.status.idle": "2023-05-23T17:47:39.207687Z",
     "shell.execute_reply": "2023-05-23T17:47:39.206926Z"
    },
    "papermill": {
     "duration": 0.014214,
     "end_time": "2023-05-23T17:47:39.209602",
     "exception": false,
     "start_time": "2023-05-23T17:47:39.195388",
     "status": "completed"
    },
    "tags": []
   },
   "outputs": [],
   "source": [
    "#q3.hint()\n",
    "#q_3.solution()"
   ]
  },
  {
   "cell_type": "markdown",
   "id": "a6dbb679",
   "metadata": {
    "papermill": {
     "duration": 0.006768,
     "end_time": "2023-05-23T17:47:39.223610",
     "exception": false,
     "start_time": "2023-05-23T17:47:39.216842",
     "status": "completed"
    },
    "tags": []
   },
   "source": [
    "Thinking about the question above, there are a few columns that appear to have geographic data. Look at a few values (with the `list_rows()` command) to see if you can determine their relationship.  Two columns will still be hard to interpret. But it should be obvious how the `location` column relates to `latitude` and `longitude`."
   ]
  },
  {
   "cell_type": "code",
   "execution_count": 13,
   "id": "2fca846e",
   "metadata": {
    "execution": {
     "iopub.execute_input": "2023-05-23T17:47:39.239848Z",
     "iopub.status.busy": "2023-05-23T17:47:39.239231Z",
     "iopub.status.idle": "2023-05-23T17:47:39.245535Z",
     "shell.execute_reply": "2023-05-23T17:47:39.244485Z"
    },
    "papermill": {
     "duration": 0.0171,
     "end_time": "2023-05-23T17:47:39.247804",
     "exception": false,
     "start_time": "2023-05-23T17:47:39.230704",
     "status": "completed"
    },
    "tags": []
   },
   "outputs": [
    {
     "data": {
      "text/plain": [
       "<bound method RowIterator.to_dataframe of <google.cloud.bigquery.table.RowIterator object at 0x7ae5429e2200>>"
      ]
     },
     "execution_count": 13,
     "metadata": {},
     "output_type": "execute_result"
    }
   ],
   "source": [
    "# Scratch space for your code\n",
    "client.list_rows(table, max_results=5).to_dataframe"
   ]
  },
  {
   "cell_type": "markdown",
   "id": "ec572c76",
   "metadata": {
    "papermill": {
     "duration": 0.006896,
     "end_time": "2023-05-23T17:47:39.262146",
     "exception": false,
     "start_time": "2023-05-23T17:47:39.255250",
     "status": "completed"
    },
    "tags": []
   },
   "source": [
    "# Keep going\n",
    "\n",
    "You've looked at the schema, but you haven't yet done anything exciting with the data itself. Things get more interesting when you get to the data, so keep going to **[write your first SQL query](https://www.kaggle.com/dansbecker/select-from-where).**"
   ]
  },
  {
   "cell_type": "markdown",
   "id": "871c20a5",
   "metadata": {
    "papermill": {
     "duration": 0.006945,
     "end_time": "2023-05-23T17:47:39.276306",
     "exception": false,
     "start_time": "2023-05-23T17:47:39.269361",
     "status": "completed"
    },
    "tags": []
   },
   "source": [
    "---\n",
    "\n",
    "\n",
    "\n",
    "\n",
    "*Have questions or comments? Visit the [course discussion forum](https://www.kaggle.com/learn/intro-to-sql/discussion) to chat with other learners.*"
   ]
  }
 ],
 "metadata": {
  "kernelspec": {
   "display_name": "Python 3",
   "language": "python",
   "name": "python3"
  },
  "language_info": {
   "codemirror_mode": {
    "name": "ipython",
    "version": 3
   },
   "file_extension": ".py",
   "mimetype": "text/x-python",
   "name": "python",
   "nbconvert_exporter": "python",
   "pygments_lexer": "ipython3",
   "version": "3.10.10"
  },
  "papermill": {
   "default_parameters": {},
   "duration": 15.103831,
   "end_time": "2023-05-23T17:47:40.205676",
   "environment_variables": {},
   "exception": null,
   "input_path": "__notebook__.ipynb",
   "output_path": "__notebook__.ipynb",
   "parameters": {},
   "start_time": "2023-05-23T17:47:25.101845",
   "version": "2.4.0"
  }
 },
 "nbformat": 4,
 "nbformat_minor": 5
}
